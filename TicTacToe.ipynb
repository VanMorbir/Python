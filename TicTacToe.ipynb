{
 "cells": [
  {
   "cell_type": "code",
   "execution_count": 23,
   "id": "53203345",
   "metadata": {},
   "outputs": [],
   "source": [
    "from IPython.display import clear_output\n",
    "import random"
   ]
  },
  {
   "cell_type": "code",
   "execution_count": 6,
   "id": "f2c91198",
   "metadata": {},
   "outputs": [],
   "source": [
    "def display_board(board):\n",
    "    clear_output()\n",
    "    print(board[1]+\"|\"+board[2]+\"|\"+board[3])\n",
    "    print(\"-----\")\n",
    "    print(board[4]+\"|\"+board[5]+\"|\"+board[6])\n",
    "    print(\"-----\")\n",
    "    print(board[7]+\"|\"+board[8]+\"|\"+board[9])"
   ]
  },
  {
   "cell_type": "code",
   "execution_count": 7,
   "id": "9818179e",
   "metadata": {},
   "outputs": [],
   "source": [
    "def player_input():\n",
    "    marker = ''\n",
    "    while marker not in ['X','O']:\n",
    "        marker = input('Player 1, choose a symbol: X or O')\n",
    "    player1 = marker\n",
    "    if player1 == 'X':\n",
    "        player2 = 'O'\n",
    "    else:\n",
    "        player2 = 'X'\n",
    "    return (player1,player2)"
   ]
  },
  {
   "cell_type": "code",
   "execution_count": 8,
   "id": "e9673c50",
   "metadata": {},
   "outputs": [],
   "source": [
    "def place_marker(board,marker,position):\n",
    "    board[position] = marker\n",
    "    return board"
   ]
  },
  {
   "cell_type": "code",
   "execution_count": 9,
   "id": "a54b4564",
   "metadata": {},
   "outputs": [],
   "source": [
    "def check_win(board,marker):\n",
    "    for i in range(1,10,3):\n",
    "        if board[i] == marker and board[i+1] == marker and board[i+2] == marker:\n",
    "            return True\n",
    "    for i in range(4):\n",
    "        if board[i] == marker and board[i+3] == marker and board[i+6] == marker:\n",
    "            return True\n",
    "    if board[1] == marker and board[5] == marker and board[9] == marker:\n",
    "        return True\n",
    "    if board[3] == marker and board[5] == marker and board[7] == marker:\n",
    "        return True\n",
    "    return False"
   ]
  },
  {
   "cell_type": "code",
   "execution_count": 29,
   "id": "e366bff9",
   "metadata": {},
   "outputs": [],
   "source": [
    "def choose_first():\n",
    "    flip = random.randint(0,1)\n",
    "    if flip == 0:\n",
    "        return 'Player1'\n",
    "    else:\n",
    "        return 'Player2'"
   ]
  },
  {
   "cell_type": "code",
   "execution_count": 15,
   "id": "fe469805",
   "metadata": {},
   "outputs": [],
   "source": [
    "def space_check(board,position):\n",
    "    return board[position] == ' '"
   ]
  },
  {
   "cell_type": "code",
   "execution_count": 17,
   "id": "2202ad09",
   "metadata": {},
   "outputs": [],
   "source": [
    "def board_full(board):\n",
    "    for i in range(1,10):\n",
    "        if space_check(board,i):\n",
    "            return False\n",
    "    return True"
   ]
  },
  {
   "cell_type": "code",
   "execution_count": 18,
   "id": "5d336d1a",
   "metadata": {},
   "outputs": [],
   "source": [
    "def player_choice(board):\n",
    "    position = 0\n",
    "    while position not in range(1,10) or not space_check(board,position):\n",
    "        position = int(input('Choose a position (1-9): '))\n",
    "    return position"
   ]
  },
  {
   "cell_type": "code",
   "execution_count": 19,
   "id": "088e0dd6",
   "metadata": {},
   "outputs": [],
   "source": [
    "def replay():\n",
    "    choice = input('Play again? Y/N')\n",
    "    return choice =='Y'"
   ]
  },
  {
   "cell_type": "code",
   "execution_count": 36,
   "id": "df933de9",
   "metadata": {},
   "outputs": [],
   "source": [
    "def do_turn(board,player_number, player_marker):\n",
    "    display_board(board)\n",
    "    print('Player '+ str(player_number)+ \"'s turn!'\")\n",
    "    position = player_choice(board)\n",
    "    place_marker(board,player_marker,position)\n",
    "    if check_win(board,player_marker):\n",
    "        display_board(board)\n",
    "        print('Player '+str(player_number)+' has won!')\n",
    "        return False\n",
    "    if board_full(board):\n",
    "        display_board(board)\n",
    "        print('Game is a tie!')\n",
    "        return False\n",
    "    return True"
   ]
  },
  {
   "cell_type": "code",
   "execution_count": 39,
   "id": "9c24901d",
   "metadata": {},
   "outputs": [
    {
     "name": "stdout",
     "output_type": "stream",
     "text": [
      "O|X|O\n",
      "-----\n",
      "X|O|X\n",
      "-----\n",
      "O| | \n",
      "Player 1 has won!\n",
      "Play again? Y/NN\n"
     ]
    }
   ],
   "source": [
    "print('Welcome to Tic Tac Toe')\n",
    "\n",
    "while True:\n",
    "    board = [' '] * 10\n",
    "    player1_marker,player2_marker = player_input()\n",
    "    turn = choose_first()\n",
    "    print(turn + ' will go first')\n",
    "    game_on = True\n",
    "    input(\"Type anything to start\")\n",
    "    while game_on:\n",
    "        if turn == 'Player1':\n",
    "            game_on = do_turn(board,1,player1_marker)\n",
    "            turn = 'Player2'\n",
    "        else:\n",
    "            game_on = do_turn(board,2,player2_marker)\n",
    "            turn = 'Player1'\n",
    "    \n",
    "    if not replay():\n",
    "        break"
   ]
  },
  {
   "cell_type": "code",
   "execution_count": null,
   "id": "7fd443b6",
   "metadata": {},
   "outputs": [],
   "source": []
  }
 ],
 "metadata": {
  "kernelspec": {
   "display_name": "Python 3 (ipykernel)",
   "language": "python",
   "name": "python3"
  },
  "language_info": {
   "codemirror_mode": {
    "name": "ipython",
    "version": 3
   },
   "file_extension": ".py",
   "mimetype": "text/x-python",
   "name": "python",
   "nbconvert_exporter": "python",
   "pygments_lexer": "ipython3",
   "version": "3.9.7"
  }
 },
 "nbformat": 4,
 "nbformat_minor": 5
}
